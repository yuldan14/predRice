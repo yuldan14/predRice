{
 "cells": [
  {
   "cell_type": "code",
   "execution_count": 7,
   "metadata": {},
   "outputs": [],
   "source": [
    "import pandas as pd\n",
    "import numpy as np"
   ]
  },
  {
   "cell_type": "code",
   "execution_count": null,
   "metadata": {},
   "outputs": [],
   "source": [
    "import requests\n",
    "import pandas as pd\n",
    "from datetime import datetime\n",
    "\n",
    "# Ambil tanggal sistem\n",
    "current_date = datetime.now().strftime('%Y-%m-%d')\n",
    "\n",
    "# Buat URL\n",
    "url = f\"https://svc-silinda.jabarprov.go.id//api/api/graphic_data/1/69/day/price/2021-03-28/{current_date}/0/market/-/eceran/null\"\n",
    "\n",
    "# Request ke API\n",
    "response = requests.get(url)\n",
    "\n",
    "# Cek apakah sukses\n",
    "if response.status_code == 200:\n",
    "    data = response.json()\n",
    "    \n",
    "    # Pastikan data yang diambil adalah list atau dict yang bisa diubah jadi DataFrame\n",
    "    if isinstance(data, list):\n",
    "        df = pd.DataFrame(data)\n",
    "    elif isinstance(data, dict):\n",
    "        # Jika berbentuk dict, ambil isi yang relevan\n",
    "        if 'data' in data:\n",
    "            df = pd.DataFrame(data['data'])\n",
    "        else:\n",
    "            df = pd.DataFrame([data])\n",
    "    \n",
    "    # Simpan ke CSV\n",
    "    filename = f\"data_silinda.csv\"\n",
    "    df.to_csv(filename, index=False)\n",
    "    print(f\"Data berhasil disimpan ke {filename}\")\n",
    "else:\n",
    "    print(f\"Request gagal dengan status code {response.status_code}\")\n",
    "\n",
    "\n",
    "\n"
   ]
  },
  {
   "cell_type": "code",
   "execution_count": null,
   "metadata": {},
   "outputs": [
    {
     "data": {
      "application/vnd.microsoft.datawrangler.viewer.v0+json": {
       "columns": [
        {
         "name": "index",
         "rawType": "int64",
         "type": "integer"
        },
        {
         "name": "total",
         "rawType": "int64",
         "type": "integer"
        },
        {
         "name": "result",
         "rawType": "object",
         "type": "string"
        },
        {
         "name": "average",
         "rawType": "int64",
         "type": "integer"
        },
        {
         "name": "location_id",
         "rawType": "int64",
         "type": "integer"
        },
        {
         "name": "commodity_id",
         "rawType": "int64",
         "type": "integer"
        },
        {
         "name": "legend",
         "rawType": "object",
         "type": "string"
        },
        {
         "name": "commodity_name",
         "rawType": "object",
         "type": "string"
        }
       ],
       "conversionMethod": "pd.DataFrame",
       "ref": "cc290e1a-48b2-4e73-a3fd-7fe333790c77",
       "rows": [
        [
         "0",
         "1859324",
         "[{'value': '10500', 'time': 'June 11, 2021', 'date': '2021-06-11', 'span': '202123'}, {'value': '10000', 'time': 'February 11, 2022', 'date': '2022-02-11', 'span': '202206'}, {'value': '10000', 'time': 'February 18, 2022', 'date': '2022-02-18', 'span': '202207'}, {'value': '10000', 'time': 'February 25, 2022', 'date': '2022-02-25', 'span': '202208'}, {'value': '10000', 'time': 'March 4, 2022', 'date': '2022-03-04', 'span': '202209'}, {'value': '10000', 'time': 'March 11, 2022', 'date': '2022-03-11', 'span': '202210'}, {'value': '10000', 'time': 'March 18, 2022', 'date': '2022-03-18', 'span': '202211'}, {'value': '10000', 'time': 'April 1, 2022', 'date': '2022-04-01', 'span': '202213'}, {'value': '10000', 'time': 'May 27, 2022', 'date': '2022-05-27', 'span': '202221'}, {'value': '10000', 'time': 'June 3, 2022', 'date': '2022-06-03', 'span': '202222'}, {'value': '10500', 'time': 'September 16, 2022', 'date': '2022-09-16', 'span': '202237'}, {'value': '10500', 'time': 'September 23, 2022', 'date': '2022-09-23', 'span': '202238'}, {'value': '10500', 'time': 'September 30, 2022', 'date': '2022-09-30', 'span': '202239'}, {'value': '10500', 'time': 'October 7, 2022', 'date': '2022-10-07', 'span': '202240'}, {'value': '10500', 'time': 'October 14, 2022', 'date': '2022-10-14', 'span': '202241'}, {'value': '10500', 'time': 'October 21, 2022', 'date': '2022-10-21', 'span': '202242'}, {'value': '10500', 'time': 'October 28, 2022', 'date': '2022-10-28', 'span': '202243'}, {'value': '10500', 'time': 'November 4, 2022', 'date': '2022-11-04', 'span': '202244'}, {'value': '8750', 'time': 'November 11, 2022', 'date': '2022-11-11', 'span': '202245'}, {'value': '9000', 'time': 'November 18, 2022', 'date': '2022-11-18', 'span': '202246'}, {'value': '10500', 'time': 'November 25, 2022', 'date': '2022-11-25', 'span': '202247'}, {'value': '10500', 'time': 'December 2, 2022', 'date': '2022-12-02', 'span': '202248'}, {'value': '10929', 'time': 'December 9, 2022', 'date': '2022-12-09', 'span': '202249'}, {'value': '11500', 'time': 'December 16, 2022', 'date': '2022-12-16', 'span': '202250'}, {'value': '11357', 'time': 'December 23, 2022', 'date': '2022-12-23', 'span': '202251'}, {'value': '11000', 'time': 'December 30, 2022', 'date': '2022-12-30', 'span': '202252'}, {'value': '11071', 'time': 'January 6, 2023', 'date': '2023-01-06', 'span': '202301'}, {'value': '11500', 'time': 'January 13, 2023', 'date': '2023-01-13', 'span': '202302'}, {'value': '11500', 'time': 'January 20, 2023', 'date': '2023-01-20', 'span': '202303'}, {'value': '11929', 'time': 'January 27, 2023', 'date': '2023-01-27', 'span': '202304'}, {'value': '12000', 'time': 'February 3, 2023', 'date': '2023-02-03', 'span': '202305'}, {'value': '12429', 'time': 'February 10, 2023', 'date': '2023-02-10', 'span': '202306'}, {'value': '12500', 'time': 'February 17, 2023', 'date': '2023-02-17', 'span': '202307'}, {'value': '12500', 'time': 'February 24, 2023', 'date': '2023-02-24', 'span': '202308'}, {'value': '12500', 'time': 'March 3, 2023', 'date': '2023-03-03', 'span': '202309'}, {'value': '12214', 'time': 'March 10, 2023', 'date': '2023-03-10', 'span': '202310'}, {'value': '12429', 'time': 'March 17, 2023', 'date': '2023-03-17', 'span': '202311'}, {'value': '12500', 'time': 'March 24, 2023', 'date': '2023-03-24', 'span': '202312'}, {'value': '12500', 'time': 'March 31, 2023', 'date': '2023-03-31', 'span': '202313'}, {'value': '12500', 'time': 'April 7, 2023', 'date': '2023-04-07', 'span': '202314'}, {'value': '12500', 'time': 'April 14, 2023', 'date': '2023-04-14', 'span': '202315'}, {'value': '12500', 'time': 'April 21, 2023', 'date': '2023-04-21', 'span': '202316'}, {'value': '12500', 'time': 'April 28, 2023', 'date': '2023-04-28', 'span': '202317'}, {'value': '12500', 'time': 'May 5, 2023', 'date': '2023-05-05', 'span': '202318'}, {'value': '12500', 'time': 'May 12, 2023', 'date': '2023-05-12', 'span': '202319'}, {'value': '12500', 'time': 'May 19, 2023', 'date': '2023-05-19', 'span': '202320'}, {'value': '12500', 'time': 'May 26, 2023', 'date': '2023-05-26', 'span': '202321'}, {'value': '12500', 'time': 'June 2, 2023', 'date': '2023-06-02', 'span': '202322'}, {'value': '12500', 'time': 'June 9, 2023', 'date': '2023-06-09', 'span': '202323'}, {'value': '12500', 'time': 'June 16, 2023', 'date': '2023-06-16', 'span': '202324'}, {'value': '12500', 'time': 'June 23, 2023', 'date': '2023-06-23', 'span': '202325'}, {'value': '12500', 'time': 'June 30, 2023', 'date': '2023-06-30', 'span': '202326'}, {'value': '12500', 'time': 'July 7, 2023', 'date': '2023-07-07', 'span': '202327'}, {'value': '12500', 'time': 'July 14, 2023', 'date': '2023-07-14', 'span': '202328'}, {'value': '12500', 'time': 'July 21, 2023', 'date': '2023-07-21', 'span': '202329'}, {'value': '12500', 'time': 'July 28, 2023', 'date': '2023-07-28', 'span': '202330'}, {'value': '12500', 'time': 'August 4, 2023', 'date': '2023-08-04', 'span': '202331'}, {'value': '12500', 'time': 'August 11, 2023', 'date': '2023-08-11', 'span': '202332'}, {'value': '12500', 'time': 'August 18, 2023', 'date': '2023-08-18', 'span': '202333'}, {'value': '12500', 'time': 'August 25, 2023', 'date': '2023-08-25', 'span': '202334'}, {'value': '12500', 'time': 'September 1, 2023', 'date': '2023-09-01', 'span': '202335'}, {'value': '12500', 'time': 'September 8, 2023', 'date': '2023-09-08', 'span': '202336'}, {'value': '12500', 'time': 'September 15, 2023', 'date': '2023-09-15', 'span': '202337'}, {'value': '13214', 'time': 'September 22, 2023', 'date': '2023-09-22', 'span': '202338'}, {'value': '13500', 'time': 'September 29, 2023', 'date': '2023-09-29', 'span': '202339'}, {'value': '13500', 'time': 'October 6, 2023', 'date': '2023-10-06', 'span': '202340'}, {'value': '13500', 'time': 'October 13, 2023', 'date': '2023-10-13', 'span': '202341'}, {'value': '13286', 'time': 'October 20, 2023', 'date': '2023-10-20', 'span': '202342'}, {'value': '13000', 'time': 'October 27, 2023', 'date': '2023-10-27', 'span': '202343'}, {'value': '13000', 'time': 'November 3, 2023', 'date': '2023-11-03', 'span': '202344'}, {'value': '13429', 'time': 'November 10, 2023', 'date': '2023-11-10', 'span': '202345'}, {'value': '13500', 'time': 'November 17, 2023', 'date': '2023-11-17', 'span': '202346'}, {'value': '13500', 'time': 'November 24, 2023', 'date': '2023-11-24', 'span': '202347'}, {'value': '13500', 'time': 'December 1, 2023', 'date': '2023-12-01', 'span': '202348'}, {'value': '13500', 'time': 'December 8, 2023', 'date': '2023-12-08', 'span': '202349'}, {'value': '13500', 'time': 'December 15, 2023', 'date': '2023-12-15', 'span': '202350'}, {'value': '13500', 'time': 'December 22, 2023', 'date': '2023-12-22', 'span': '202351'}, {'value': '13500', 'time': 'December 29, 2023', 'date': '2023-12-29', 'span': '202352'}, {'value': '13557', 'time': 'January 5, 2024', 'date': '2024-01-05', 'span': '202353'}, {'value': '14014', 'time': 'January 12, 2024', 'date': '2024-01-12', 'span': '202401'}, {'value': '14286', 'time': 'January 19, 2024', 'date': '2024-01-19', 'span': '202402'}, {'value': '14557', 'time': 'January 26, 2024', 'date': '2024-01-26', 'span': '202403'}, {'value': '14929', 'time': 'February 2, 2024', 'date': '2024-02-02', 'span': '202404'}, {'value': '15286', 'time': 'February 9, 2024', 'date': '2024-02-09', 'span': '202405'}, {'value': '15686', 'time': 'February 16, 2024', 'date': '2024-02-16', 'span': '202406'}, {'value': '15500', 'time': 'February 23, 2024', 'date': '2024-02-23', 'span': '202407'}, {'value': '15500', 'time': 'March 1, 2024', 'date': '2024-03-01', 'span': '202408'}, {'value': '15357', 'time': 'March 8, 2024', 'date': '2024-03-08', 'span': '202409'}, {'value': '15300', 'time': 'March 15, 2024', 'date': '2024-03-15', 'span': '202410'}, {'value': '15300', 'time': 'March 22, 2024', 'date': '2024-03-22', 'span': '202411'}, {'value': '15300', 'time': 'March 29, 2024', 'date': '2024-03-29', 'span': '202412'}, {'value': '14800', 'time': 'April 5, 2024', 'date': '2024-04-05', 'span': '202413'}, {'value': '14700', 'time': 'April 12, 2024', 'date': '2024-04-12', 'span': '202414'}, {'value': '14700', 'time': 'April 19, 2024', 'date': '2024-04-19', 'span': '202415'}, {'value': '14671', 'time': 'April 26, 2024', 'date': '2024-04-26', 'span': '202416'}, {'value': '14329', 'time': 'May 3, 2024', 'date': '2024-05-03', 'span': '202417'}, {'value': '13800', 'time': 'May 10, 2024', 'date': '2024-05-10', 'span': '202418'}, {'value': '13586', 'time': 'May 17, 2024', 'date': '2024-05-17', 'span': '202419'}, {'value': '13500', 'time': 'May 24, 2024', 'date': '2024-05-24', 'span': '202420'}, {'value': '13329', 'time': 'May 31, 2024', 'date': '2024-05-31', 'span': '202421'}, {'value': '13300', 'time': 'June 7, 2024', 'date': '2024-06-07', 'span': '202422'}, {'value': '13300', 'time': 'June 14, 2024', 'date': '2024-06-14', 'span': '202423'}, {'value': '13300', 'time': 'June 21, 2024', 'date': '2024-06-21', 'span': '202424'}, {'value': '13300', 'time': 'June 28, 2024', 'date': '2024-06-28', 'span': '202425'}, {'value': '13357', 'time': 'July 5, 2024', 'date': '2024-07-05', 'span': '202426'}, {'value': '13629', 'time': 'July 12, 2024', 'date': '2024-07-12', 'span': '202427'}, {'value': '13800', 'time': 'July 19, 2024', 'date': '2024-07-19', 'span': '202428'}, {'value': '13857', 'time': 'July 26, 2024', 'date': '2024-07-26', 'span': '202429'}, {'value': '14000', 'time': 'August 2, 2024', 'date': '2024-08-02', 'span': '202430'}, {'value': '13829', 'time': 'August 9, 2024', 'date': '2024-08-09', 'span': '202431'}, {'value': '13800', 'time': 'August 16, 2024', 'date': '2024-08-16', 'span': '202432'}, {'value': '13571', 'time': 'August 23, 2024', 'date': '2024-08-23', 'span': '202433'}, {'value': '13500', 'time': 'August 30, 2024', 'date': '2024-08-30', 'span': '202434'}, {'value': '13500', 'time': 'September 6, 2024', 'date': '2024-09-06', 'span': '202435'}, {'value': '13500', 'time': 'September 13, 2024', 'date': '2024-09-13', 'span': '202436'}, {'value': '13500', 'time': 'September 20, 2024', 'date': '2024-09-20', 'span': '202437'}, {'value': '13500', 'time': 'September 27, 2024', 'date': '2024-09-27', 'span': '202438'}, {'value': '13500', 'time': 'October 4, 2024', 'date': '2024-10-04', 'span': '202439'}, {'value': '13500', 'time': 'October 11, 2024', 'date': '2024-10-11', 'span': '202440'}, {'value': '13500', 'time': 'October 18, 2024', 'date': '2024-10-18', 'span': '202441'}, {'value': '13500', 'time': 'October 25, 2024', 'date': '2024-10-25', 'span': '202442'}, {'value': '13500', 'time': 'November 1, 2024', 'date': '2024-11-01', 'span': '202443'}, {'value': '13500', 'time': 'November 8, 2024', 'date': '2024-11-08', 'span': '202444'}, {'value': '13500', 'time': 'November 15, 2024', 'date': '2024-11-15', 'span': '202445'}, {'value': '13500', 'time': 'November 22, 2024', 'date': '2024-11-22', 'span': '202446'}, {'value': '13500', 'time': 'November 29, 2024', 'date': '2024-11-29', 'span': '202447'}, {'value': '13500', 'time': 'December 6, 2024', 'date': '2024-12-06', 'span': '202448'}, {'value': '13500', 'time': 'December 13, 2024', 'date': '2024-12-13', 'span': '202449'}, {'value': '13500', 'time': 'December 20, 2024', 'date': '2024-12-20', 'span': '202450'}, {'value': '13500', 'time': 'December 27, 2024', 'date': '2024-12-27', 'span': '202451'}, {'value': '13500', 'time': 'January 3, 2025', 'date': '2025-01-03', 'span': '202452'}, {'value': '13500', 'time': 'January 10, 2025', 'date': '2025-01-10', 'span': '202501'}, {'value': '13500', 'time': 'January 17, 2025', 'date': '2025-01-17', 'span': '202502'}, {'value': '13500', 'time': 'January 24, 2025', 'date': '2025-01-24', 'span': '202503'}, {'value': '13500', 'time': 'January 31, 2025', 'date': '2025-01-31', 'span': '202504'}, {'value': '13500', 'time': 'February 7, 2025', 'date': '2025-02-07', 'span': '202505'}, {'value': '13500', 'time': 'February 14, 2025', 'date': '2025-02-14', 'span': '202506'}, {'value': '13500', 'time': 'February 21, 2025', 'date': '2025-02-21', 'span': '202507'}, {'value': '13500', 'time': 'February 28, 2025', 'date': '2025-02-28', 'span': '202508'}, {'value': '13500', 'time': 'March 7, 2025', 'date': '2025-03-07', 'span': '202509'}, {'value': '13757', 'time': 'March 14, 2025', 'date': '2025-03-14', 'span': '202510'}, {'value': '14000', 'time': 'March 21, 2025', 'date': '2025-03-21', 'span': '202511'}, {'value': '14000', 'time': 'March 28, 2025', 'date': '2025-03-28', 'span': '202512'}, {'value': '14000', 'time': 'April 4, 2025', 'date': '2025-04-04', 'span': '202513'}, {'value': '14000', 'time': 'April 8, 2025', 'date': '2025-04-08', 'span': '202514'}]",
         "12823",
         "69",
         "1",
         "Harga Pasar Cikurubuk",
         "Beras Medium"
        ]
       ],
       "shape": {
        "columns": 7,
        "rows": 1
       }
      },
      "text/html": [
       "<div>\n",
       "<style scoped>\n",
       "    .dataframe tbody tr th:only-of-type {\n",
       "        vertical-align: middle;\n",
       "    }\n",
       "\n",
       "    .dataframe tbody tr th {\n",
       "        vertical-align: top;\n",
       "    }\n",
       "\n",
       "    .dataframe thead th {\n",
       "        text-align: right;\n",
       "    }\n",
       "</style>\n",
       "<table border=\"1\" class=\"dataframe\">\n",
       "  <thead>\n",
       "    <tr style=\"text-align: right;\">\n",
       "      <th></th>\n",
       "      <th>total</th>\n",
       "      <th>result</th>\n",
       "      <th>average</th>\n",
       "      <th>location_id</th>\n",
       "      <th>commodity_id</th>\n",
       "      <th>legend</th>\n",
       "      <th>commodity_name</th>\n",
       "    </tr>\n",
       "  </thead>\n",
       "  <tbody>\n",
       "    <tr>\n",
       "      <th>0</th>\n",
       "      <td>1859324</td>\n",
       "      <td>[{'value': '10500', 'time': 'June 11, 2021', '...</td>\n",
       "      <td>12823</td>\n",
       "      <td>69</td>\n",
       "      <td>1</td>\n",
       "      <td>Harga Pasar Cikurubuk</td>\n",
       "      <td>Beras Medium</td>\n",
       "    </tr>\n",
       "  </tbody>\n",
       "</table>\n",
       "</div>"
      ],
      "text/plain": [
       "     total                                             result  average  \\\n",
       "0  1859324  [{'value': '10500', 'time': 'June 11, 2021', '...    12823   \n",
       "\n",
       "   location_id  commodity_id                 legend commodity_name  \n",
       "0           69             1  Harga Pasar Cikurubuk   Beras Medium  "
      ]
     },
     "execution_count": 10,
     "metadata": {},
     "output_type": "execute_result"
    }
   ],
   "source": [
    "df =  pd.read_csv('silinda_data.csv')"
   ]
  },
  {
   "cell_type": "code",
   "execution_count": 11,
   "metadata": {},
   "outputs": [
    {
     "name": "stdout",
     "output_type": "stream",
     "text": [
      "DataFrame Hasil Ekstraksi:\n",
      "   value               time       date    span\n",
      "0  10500      June 11, 2021 2021-06-11  202123\n",
      "1  10000  February 11, 2022 2022-02-11  202206\n",
      "2  10000  February 18, 2022 2022-02-18  202207\n",
      "3  10000  February 25, 2022 2022-02-25  202208\n",
      "4  10000      March 4, 2022 2022-03-04  202209\n",
      "Data berhasil disimpan ke hasil_ekstraksi.csv\n"
     ]
    }
   ],
   "source": [
    "import ast\n",
    "from datetime import datetime\n",
    "\n",
    "def extract_result_data(df):\n",
    "    \"\"\"\n",
    "    Fungsi untuk mengekstrak dan membersihkan data dari kolom 'result'\n",
    "    \"\"\"\n",
    "    try:\n",
    "        # 1. Konversi string ke list of dicts\n",
    "        if isinstance(df['result'], str):\n",
    "            try:\n",
    "                # Ganti tanda kutip tunggal dengan ganda untuk valid JSON\n",
    "                json_str = df['result'].replace(\"'\", '\"')\n",
    "                results_list = ast.literal_eval(json_str)\n",
    "            except (SyntaxError, ValueError) as e:\n",
    "                print(f\"Error parsing JSON: {e}\")\n",
    "                return pd.DataFrame()  # Return empty DataFrame jika error\n",
    "        \n",
    "        # 2. Konversi ke DataFrame\n",
    "        df_results = pd.DataFrame(results_list)\n",
    "        \n",
    "        if not df_results.empty:\n",
    "            # 3. Pembersihan data\n",
    "            # Konversi tipe data\n",
    "            df_results['value'] = pd.to_numeric(df_results['value'], errors='coerce')\n",
    "            \n",
    "            # Handle multiple date formats\n",
    "            df_results['date'] = pd.to_datetime(\n",
    "                df_results['date'], \n",
    "                errors='coerce',\n",
    "                format='mixed'  # Untuk handle berbagai format tanggal\n",
    "            )\n",
    "            \n",
    "            # Drop baris dengan data hilang\n",
    "            df_results.dropna(subset=['value', 'date'], inplace=True)\n",
    "            \n",
    "            # 4. Sort by date\n",
    "            df_results.sort_values('date', inplace=True)\n",
    "            \n",
    "            return df_results\n",
    "            \n",
    "    except Exception as e:\n",
    "        print(f\"Unexpected error: {e}\")\n",
    "    \n",
    "    return pd.DataFrame()\n",
    "\n",
    "# Contoh penggunaan:\n",
    "if not df.empty and 'result' in df.columns:\n",
    "    # Ekstrak data untuk setiap baris (jika df memiliki multiple rows)\n",
    "    all_results = pd.concat(\n",
    "        [extract_result_data(row) for _, row in df.iterrows()],\n",
    "        ignore_index=True\n",
    "    )\n",
    "    \n",
    "    print(\"DataFrame Hasil Ekstraksi:\")\n",
    "    print(all_results.head())\n",
    "    \n",
    "    # Simpan ke CSV\n",
    "    try:\n",
    "        all_results.to_csv('hasil_ekstraksi.csv', index=False, encoding='utf-8-sig')\n",
    "        print(\"Data berhasil disimpan ke hasil_ekstraksi.csv\")\n",
    "    except Exception as e:\n",
    "        print(f\"Gagal menyimpan file: {e}\")\n",
    "else:\n",
    "    print(\"DataFrame input tidak valid atau kolom 'result' tidak ditemukan\")\n"
   ]
  }
 ],
 "metadata": {
  "kernelspec": {
   "display_name": "Python 3",
   "language": "python",
   "name": "python3"
  },
  "language_info": {
   "codemirror_mode": {
    "name": "ipython",
    "version": 3
   },
   "file_extension": ".py",
   "mimetype": "text/x-python",
   "name": "python",
   "nbconvert_exporter": "python",
   "pygments_lexer": "ipython3",
   "version": "3.13.2"
  }
 },
 "nbformat": 4,
 "nbformat_minor": 2
}
